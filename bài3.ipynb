{
 "cells": [
  {
   "cell_type": "code",
   "execution_count": null,
   "id": "f9e0771e",
   "metadata": {},
   "outputs": [
    {
     "name": "stdout",
     "output_type": "stream",
     "text": [
      "Ax=100\n",
      "Ay=300\n",
      "Bx=300\n",
      "By=400\n",
      "Cx=0\n"
     ]
    }
   ],
   "source": [
    "import turtle\n",
    "import math\n",
    "t=turtle.Turtle()\n",
    "t.shape('turtle')\n",
    "Ax=int(input('Ax='))\n",
    "Ay=int(input('Ay='))\n",
    "Bx=int(input('Bx='))\n",
    "By=int(input('By='))\n",
    "Cx=int(input('Cx='))\n",
    "Cy=int(input('Cy='))\n",
    "ABx=Bx-Ax\n",
    "ABy=By-Ay\n",
    "Dx=-1*(ABx-Cx)\n",
    "Dy=-1*(ABy-Cy)\n",
    "BCx=Cx-Bx\n",
    "BCy=Cy-By\n",
    "ACx=Cx-Ax\n",
    "ACy=Cy-Ay\n",
    "CDx=Dx-Cx\n",
    "CDy=Dy-Cy\n",
    "ADx=Dx-Ax\n",
    "ADy=Dy-Ay\n",
    "DAx=Ax-Dx\n",
    "DAy=Ay-Dy\n",
    "#Độ dài AB và BC\n",
    "AB=math.sqrt(ABx*ABx+ABy*ABy)\n",
    "BC=math.sqrt(BCx*BCx+BCy*BCy)\n",
    "print('Tọa độ điểm D là:({0},{1})'.format(Dx,Dy))\n",
    "print('Chu vi hình bình hành:',round(2*(AB+BC),2))\n",
    "mau=input(\"Hãy nhập màu=\")\n",
    "t.pencolor(mau)\n",
    "#Vẽ\n",
    "t.penup()   \n",
    "t.goto(ABx,ABy)\n",
    "t.pendown()\n",
    "t.goto(BCx,BCy)\n",
    "t.goto(CDx,CDy)\n",
    "t.goto(DAx,DAy)\n",
    "t.goto(ABx,ABy)\n",
    "turtle.done()"
   ]
  }
 ],
 "metadata": {
  "kernelspec": {
   "display_name": "Python 3",
   "language": "python",
   "name": "python3"
  },
  "language_info": {
   "codemirror_mode": {
    "name": "ipython",
    "version": 3
   },
   "file_extension": ".py",
   "mimetype": "text/x-python",
   "name": "python",
   "nbconvert_exporter": "python",
   "pygments_lexer": "ipython3",
   "version": "3.8.8"
  }
 },
 "nbformat": 4,
 "nbformat_minor": 5
}
