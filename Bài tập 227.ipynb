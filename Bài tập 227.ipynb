{
 "cells": [
  {
   "cell_type": "code",
   "execution_count": 1,
   "id": "51bd8f1e",
   "metadata": {},
   "outputs": [
    {
     "name": "stdout",
     "output_type": "stream",
     "text": [
      "Nhập số điện:78\n",
      "Phải trả 132452 đồng\n"
     ]
    }
   ],
   "source": [
    "n=int(input(\"Nhập số điện:\"))\n",
    "if n<=50:\n",
    "    S=n*1678 \n",
    "elif n>50 and n<=100: \n",
    "    S=50*1678+(n-50)*1734\n",
    "elif n>100 and n<= 200:\n",
    "    S=50*1678+50*1734+(n-100)*2014 \n",
    "elif n>200 and n<=300:\n",
    "    S=50*1678+50*1734+100*2014+(n-200)*2536 \n",
    "elif n>300 and n<=400:\n",
    "    S=50*1678+50*1734+100*2014+100*2536+(n-300)*2834\n",
    "elif n>400:\n",
    "    S=50*1678+50*1734+100*2014+100*2536+100*2834+(n-400)*2927\n",
    "print(\"Phải trả {0} đồng\".format(S))"
   ]
  },
  {
   "cell_type": "code",
   "execution_count": null,
   "id": "80d8c114",
   "metadata": {},
   "outputs": [],
   "source": []
  }
 ],
 "metadata": {
  "kernelspec": {
   "display_name": "Python 3",
   "language": "python",
   "name": "python3"
  },
  "language_info": {
   "codemirror_mode": {
    "name": "ipython",
    "version": 3
   },
   "file_extension": ".py",
   "mimetype": "text/x-python",
   "name": "python",
   "nbconvert_exporter": "python",
   "pygments_lexer": "ipython3",
   "version": "3.8.8"
  }
 },
 "nbformat": 4,
 "nbformat_minor": 5
}
