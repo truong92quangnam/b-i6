{
 "cells": [
  {
   "cell_type": "code",
   "execution_count": 1,
   "id": "f16b4908",
   "metadata": {},
   "outputs": [
    {
     "name": "stdout",
     "output_type": "stream",
     "text": [
      "Nhập tên=nguyễn văn hoàng\n",
      "Nguyễn Văn Hoàng\n"
     ]
    }
   ],
   "source": [
    "String=str(input('Nhập tên='))\n",
    "String_list=String.lower().split()\n",
    "List_1=String_list[0][0].upper()+String_list[0][1:]\n",
    "List_2=String_list[1][0].upper()+String_list[1][1:]\n",
    "List_3=String_list[2][0].upper()+String_list[2][1:]\n",
    "String=List_1+' '+List_2+' '+List_3\n",
    "print(String)\n",
    "\n",
    "\n"
   ]
  }
 ],
 "metadata": {
  "kernelspec": {
   "display_name": "Python 3",
   "language": "python",
   "name": "python3"
  },
  "language_info": {
   "codemirror_mode": {
    "name": "ipython",
    "version": 3
   },
   "file_extension": ".py",
   "mimetype": "text/x-python",
   "name": "python",
   "nbconvert_exporter": "python",
   "pygments_lexer": "ipython3",
   "version": "3.8.8"
  }
 },
 "nbformat": 4,
 "nbformat_minor": 5
}
