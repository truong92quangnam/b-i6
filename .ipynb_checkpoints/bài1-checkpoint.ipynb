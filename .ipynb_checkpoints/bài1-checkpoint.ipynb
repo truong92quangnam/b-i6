{
 "cells": [
  {
   "cell_type": "code",
   "execution_count": null,
   "id": "31e88cde",
   "metadata": {},
   "outputs": [
    {
     "name": "stdout",
     "output_type": "stream",
     "text": [
      "1000\n",
      "68819.096\n"
     ]
    }
   ],
   "source": [
    "import turtle\n",
    "import math\n",
    "t=turtle.Turtle()\n",
    "t.shape(\"turtle\")\n",
    "a=200\n",
    "goc=72\n",
    "t.pencolor('blue')\n",
    "\n",
    "t.begin_fill()\n",
    "t.fillcolor('red')  \n",
    "\n",
    "t.forward(a)\n",
    "t.left(goc)\n",
    "t.forward(a)\n",
    "t.left(goc)\n",
    "t.forward(a)\n",
    "t.left(goc)\n",
    "t.forward(a)\n",
    "t.left(goc)\n",
    "t.forward(a)\n",
    "t.left(goc)\n",
    "\n",
    "t.end_fill()\n",
    "\n",
    "p=5*a\n",
    "S=math.sqrt(25+10*math.sqrt(5))*pow(a,2)/4\n",
    "print(p)\n",
    "print(round(S,3))\n",
    "turtle.done()"
   ]
  }
 ],
 "metadata": {
  "kernelspec": {
   "display_name": "Python 3",
   "language": "python",
   "name": "python3"
  },
  "language_info": {
   "codemirror_mode": {
    "name": "ipython",
    "version": 3
   },
   "file_extension": ".py",
   "mimetype": "text/x-python",
   "name": "python",
   "nbconvert_exporter": "python",
   "pygments_lexer": "ipython3",
   "version": "3.8.8"
  }
 },
 "nbformat": 4,
 "nbformat_minor": 5
}
