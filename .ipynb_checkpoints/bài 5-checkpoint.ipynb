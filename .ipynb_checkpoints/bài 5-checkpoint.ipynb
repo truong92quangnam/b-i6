{
 "cells": [
  {
   "cell_type": "code",
   "execution_count": 1,
   "id": "16b93fc2",
   "metadata": {
    "scrolled": true
   },
   "outputs": [
    {
     "name": "stdout",
     "output_type": "stream",
     "text": [
      "Phương trình bậc 2\n",
      "a=1\n",
      "b=-3\n",
      "c=2\n",
      "x1= 2.0\n",
      "x2= 1.0\n"
     ]
    }
   ],
   "source": [
    "import math\n",
    "print(\"Phương trình bậc 2\")\n",
    "a=int(input(\"a=\"))\n",
    "b=int(input(\"b=\"))\n",
    "c=int(input(\"c=\"))\n",
    "if a==0 :\n",
    "    print(\"erorr\")\n",
    "if a!=0 :\n",
    "    if b*b-4*a*c ==0 : \n",
    "        print(\"x=\",-b/(2*a))\n",
    "    else:\n",
    "        if b*b-4*a*c>0 :\n",
    "                    print(\"x1=\",((-b+math.sqrt(b*b-4*a*c))/(2*a)))\n",
    "                    print(\"x2=\",((-b-math.sqrt(b*b-4*a*c))/(2*a)))\n",
    "        else:\n",
    "                    print(\"Không có nghiệm\")\n",
    "\n"
   ]
  },
  {
   "cell_type": "code",
   "execution_count": null,
   "id": "d2f4cd78",
   "metadata": {},
   "outputs": [],
   "source": []
  }
 ],
 "metadata": {
  "kernelspec": {
   "display_name": "Python 3",
   "language": "python",
   "name": "python3"
  },
  "language_info": {
   "codemirror_mode": {
    "name": "ipython",
    "version": 3
   },
   "file_extension": ".py",
   "mimetype": "text/x-python",
   "name": "python",
   "nbconvert_exporter": "python",
   "pygments_lexer": "ipython3",
   "version": "3.8.8"
  }
 },
 "nbformat": 4,
 "nbformat_minor": 5
}
