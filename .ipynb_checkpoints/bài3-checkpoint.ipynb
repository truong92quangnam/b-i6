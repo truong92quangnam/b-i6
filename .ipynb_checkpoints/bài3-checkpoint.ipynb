{
 "cells": [
  {
   "cell_type": "code",
   "execution_count": null,
   "id": "f9e0771e",
   "metadata": {},
   "outputs": [],
   "source": [
    "import turtle\n",
    "t=turtle.Turtle()\n",
    "t.shape('turtle')\n",
    "\n",
    "Ax=int(input('Nhập Ax=')); Ay=int(input('Nhập Ay=')) \n",
    "Bx=int(input('Nhập Bx=')); By=int(input('Nhập By=')) \n",
    "Cx=int(input('Nhập Cx=')); Cy=int(input('Nhập Cy='))\n",
    "\n",
    "Dx=-Bx+Ax+Cx\n",
    "Dy=-By+Ay+Cy\n",
    "print('A({0},{1})'.format(Ax,Ay))\n",
    "print('B({0},{1})'.format(Bx,By))\n",
    "print('C({0},{1})'.format(Cx,Cy))\n",
    "print('D({0},{1})'.format(Dx,Dy))\n",
    "\n",
    "t.goto(Ax,Ay)\n",
    "t.goto(Bx,By)\n",
    "t.goto(Cx,Cy)\n",
    "t.goto(Dx,Dy)\n",
    "\n",
    "turtle.done()"
   ]
  },
  {
   "cell_type": "code",
   "execution_count": null,
   "id": "26330339",
   "metadata": {},
   "outputs": [],
   "source": []
  },
  {
   "cell_type": "code",
   "execution_count": null,
   "id": "ef8d2498",
   "metadata": {},
   "outputs": [],
   "source": []
  }
 ],
 "metadata": {
  "kernelspec": {
   "display_name": "Python 3",
   "language": "python",
   "name": "python3"
  },
  "language_info": {
   "codemirror_mode": {
    "name": "ipython",
    "version": 3
   },
   "file_extension": ".py",
   "mimetype": "text/x-python",
   "name": "python",
   "nbconvert_exporter": "python",
   "pygments_lexer": "ipython3",
   "version": "3.8.8"
  }
 },
 "nbformat": 4,
 "nbformat_minor": 5
}
