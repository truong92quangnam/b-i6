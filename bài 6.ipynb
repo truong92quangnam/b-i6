{
 "cells": [
  {
   "cell_type": "code",
   "execution_count": 1,
   "id": "cb917a19",
   "metadata": {},
   "outputs": [
    {
     "name": "stdout",
     "output_type": "stream",
     "text": [
      "Nhập a=9\n",
      "Nhập b=9\n",
      "Nhập c=-1\n",
      "9x^2+9x-1=0\n"
     ]
    }
   ],
   "source": [
    "a=int(input(\"Nhập a=\"))\n",
    "#Để xét a\n",
    "if a==0:\n",
    "    Sa=\"\"\n",
    "else:\n",
    "    if a==1:\n",
    "        Sa=\"x^2\"\n",
    "    else:\n",
    "        if a==-1:\n",
    "            Sa=\"-x^2\"\n",
    "        else:\n",
    "            if a>1 :\n",
    "                da=str(a)\n",
    "                Sa=da+'x^2'\n",
    "            else:\n",
    "                da=str(a)\n",
    "                Sa=da+'x^2'\n",
    "\n",
    "b=int(input(\"Nhập b=\"))\n",
    "#Để xét b\n",
    "if b==0:\n",
    "    Sb=\"\"\n",
    "else:\n",
    "    if b==1:\n",
    "        Sb=\"+x\"\n",
    "    else:\n",
    "        if b==-1:\n",
    "            Sb=\"-x\"\n",
    "        else:\n",
    "            if b>1 :\n",
    "                db=str(b)\n",
    "                Sb='+'+db+'x'\n",
    "            else:\n",
    "                db=str(b)\n",
    "                Sb=db+'x'\n",
    "\n",
    "c=int(input(\"Nhập c=\"))\n",
    "#Để xét c\n",
    "if c==0:\n",
    "    Sc=\"\"\n",
    "else:\n",
    "    if c==1:\n",
    "        Sc=\"+1\"\n",
    "    else:\n",
    "        if c==-1:\n",
    "            Sc=\"-1\"\n",
    "        else:\n",
    "            if c>1 :\n",
    "                dc=str(c)\n",
    "                Sc='+'+dc\n",
    "            else:\n",
    "                dc=str(b)\n",
    "                Sc=dc\n",
    "                \n",
    "S=Sa+Sb+Sc\n",
    "print('{0}=0'.format(S))"
   ]
  },
  {
   "cell_type": "code",
   "execution_count": null,
   "id": "902fa5a6",
   "metadata": {},
   "outputs": [],
   "source": []
  }
 ],
 "metadata": {
  "kernelspec": {
   "display_name": "Python 3",
   "language": "python",
   "name": "python3"
  },
  "language_info": {
   "codemirror_mode": {
    "name": "ipython",
    "version": 3
   },
   "file_extension": ".py",
   "mimetype": "text/x-python",
   "name": "python",
   "nbconvert_exporter": "python",
   "pygments_lexer": "ipython3",
   "version": "3.8.8"
  }
 },
 "nbformat": 4,
 "nbformat_minor": 5
}
