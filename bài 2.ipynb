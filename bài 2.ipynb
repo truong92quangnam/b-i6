{
 "cells": [
  {
   "cell_type": "code",
   "execution_count": 1,
   "id": "70b527d7",
   "metadata": {},
   "outputs": [
    {
     "name": "stdout",
     "output_type": "stream",
     "text": [
      "Nhập giá trị 1=9\n",
      "Nhập giá trị 2=9\n",
      "Nhập giá trị 3=9\n",
      "Nhập giá trị 4=9\n",
      "1. 36\n",
      "2. 9.0\n",
      "3.True\n",
      "4.False\n"
     ]
    }
   ],
   "source": [
    "\n",
    "a=int(input(\"Nhập giá trị 1=\"))\n",
    "b=int(input(\"Nhập giá trị 2=\"))\n",
    "c=int(input(\"Nhập giá trị 3=\"))\n",
    "d=int(input(\"Nhập giá trị 4=\"))\n",
    "\n",
    "S=a+b+c+d\n",
    "print(\"1.\",S)\n",
    "tb=(a+b+c+d)/4\n",
    "print(\"2.\",tb)\n",
    "\n",
    "if a>0 and b>0 and c>0 and d>0 :\n",
    "    print(\"3.True\")\n",
    "else:\n",
    "        print(\"3.False\")\n",
    "if a%2==0 or b%2==0 or c%2==0 or d%2==0 :\n",
    "    print(\"4.True\")\n",
    "else:\n",
    "        print(\"4.False\")"
   ]
  }
 ],
 "metadata": {
  "kernelspec": {
   "display_name": "Python 3",
   "language": "python",
   "name": "python3"
  },
  "language_info": {
   "codemirror_mode": {
    "name": "ipython",
    "version": 3
   },
   "file_extension": ".py",
   "mimetype": "text/x-python",
   "name": "python",
   "nbconvert_exporter": "python",
   "pygments_lexer": "ipython3",
   "version": "3.8.8"
  }
 },
 "nbformat": 4,
 "nbformat_minor": 5
}
