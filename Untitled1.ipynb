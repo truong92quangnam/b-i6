{
 "cells": [
  {
   "cell_type": "code",
   "execution_count": 1,
   "id": "de1d1897",
   "metadata": {},
   "outputs": [
    {
     "ename": "SyntaxError",
     "evalue": "invalid syntax (<ipython-input-1-e3f15c39ef01>, line 5)",
     "output_type": "error",
     "traceback": [
      "\u001b[1;36m  File \u001b[1;32m\"<ipython-input-1-e3f15c39ef01>\"\u001b[1;36m, line \u001b[1;32m5\u001b[0m\n\u001b[1;33m    t.forward(100)import turtle\u001b[0m\n\u001b[1;37m                  ^\u001b[0m\n\u001b[1;31mSyntaxError\u001b[0m\u001b[1;31m:\u001b[0m invalid syntax\n"
     ]
    }
   ],
   "source": [
    "\n",
    "\n",
    "t.forward(100)\n",
    "t.right(90)\n",
    "t.forward(100)\n",
    "t.right(90)\n",
    "t.forward(100)import turtle\n",
    "t=turtle.Turtle()\n",
    "\n",
    "t.shape(\"turtle\")\n",
    "t.right(90)\n",
    "t.forward(100)\n",
    "turtle.done()"
   ]
  },
  {
   "cell_type": "code",
   "execution_count": null,
   "id": "aea5c1f2",
   "metadata": {},
   "outputs": [],
   "source": [
    "import turtle\n",
    "t=turtle.Turtle()\n",
    "\n",
    "t.shape(\"turtle\")\n",
    "t.left(60)\n",
    "t.forward(100)\n",
    "\n",
    "turtle.done()"
   ]
  },
  {
   "cell_type": "code",
   "execution_count": null,
   "id": "d01250d9",
   "metadata": {},
   "outputs": [],
   "source": []
  }
 ],
 "metadata": {
  "kernelspec": {
   "display_name": "Python 3",
   "language": "python",
   "name": "python3"
  },
  "language_info": {
   "codemirror_mode": {
    "name": "ipython",
    "version": 3
   },
   "file_extension": ".py",
   "mimetype": "text/x-python",
   "name": "python",
   "nbconvert_exporter": "python",
   "pygments_lexer": "ipython3",
   "version": "3.8.8"
  }
 },
 "nbformat": 4,
 "nbformat_minor": 5
}
